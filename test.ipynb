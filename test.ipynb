{
 "cells": [
  {
   "cell_type": "code",
   "execution_count": 1,
   "metadata": {},
   "outputs": [
    {
     "name": "stdout",
     "output_type": "stream",
     "text": [
      "Contig NT_187362.1:\tA=3698, G=2858, T=3012, C=2663, t=4874, c=4118, a=6741, g=4068\n",
      "Contig NT_187363.1:\tg=15374, a=21515, t=22087, c=14581, G=11355, C=11061, T=16322, A=15387\n",
      "Contig NT_187364.1:\tg=6917, a=13516, t=14842, c=8228, G=4664, A=6616, T=7146, C=4931\n",
      "Contig NT_187365.1:\tA=6892, C=4131, T=7573, G=4071, t=6280, g=3102, c=3019, a=5108\n",
      "Contig NT_187361.1:\tG=21162, A=27812, T=28097, C=22678, g=14746, t=22941, a=22589, c=15030\n",
      "CPU times: user 3.28 s, sys: 801 ms, total: 4.09 s\n",
      "Wall time: 3min 40s\n"
     ]
    }
   ],
   "source": [
    "%%time\n",
    "!./parallel.py -t 3 -f 'GRCh38_latest_genomic.fna.gz' | head -5"
   ]
  },
  {
   "cell_type": "code",
   "execution_count": 2,
   "metadata": {},
   "outputs": [
    {
     "name": "stdout",
     "output_type": "stream",
     "text": [
      "Contig NT_187366.1:\tt=4163, g=2926, a=4770, c=3071, C=6163, T=7662, A=7516, G=5939\n",
      "Contig NT_187362.1:\tA=3698, G=2858, T=3012, C=2663, t=4874, c=4118, a=6741, g=4068\n",
      "Contig NT_187368.1:\tG=7661, A=7857, C=7266, T=7459, g=2249, c=2243, a=3157, t=2853\n",
      "Contig NT_187364.1:\tg=6917, a=13516, t=14842, c=8228, G=4664, A=6616, T=7146, C=4931\n",
      "Contig NT_187365.1:\tA=6892, C=4131, T=7573, G=4071, t=6280, g=3102, c=3019, a=5108\n",
      "CPU times: user 1.64 s, sys: 393 ms, total: 2.04 s\n",
      "Wall time: 2min 3s\n"
     ]
    }
   ],
   "source": [
    "%%time\n",
    "!./parallel.py -t 10 -f 'GRCh38_latest_genomic.fna.gz' | head -5"
   ]
  },
  {
   "cell_type": "markdown",
   "metadata": {},
   "source": [
    "Время работы программы уменьшилось почти в 2 раза.  \n",
    "Но значительное время работы программы занимает разархивация файла, которая не параллелится"
   ]
  },
  {
   "cell_type": "markdown",
   "metadata": {},
   "source": []
  }
 ],
 "metadata": {
  "interpreter": {
   "hash": "b9acbed04929bb73bdf08b16b6f491c74ef748d0dfc1a0f88cbe7a4a3857bbcb"
  },
  "kernelspec": {
   "display_name": "Python 3.8.5 ('base')",
   "language": "python",
   "name": "python3"
  },
  "language_info": {
   "codemirror_mode": {
    "name": "ipython",
    "version": 3
   },
   "file_extension": ".py",
   "mimetype": "text/x-python",
   "name": "python",
   "nbconvert_exporter": "python",
   "pygments_lexer": "ipython3",
   "version": "3.8.5"
  },
  "orig_nbformat": 4
 },
 "nbformat": 4,
 "nbformat_minor": 2
}
