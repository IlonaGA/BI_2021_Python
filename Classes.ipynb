{
 "cells": [
  {
   "cell_type": "code",
   "execution_count": 1,
   "id": "336dc6ad",
   "metadata": {},
   "outputs": [],
   "source": [
    "import matplotlib.pyplot as plt\n",
    "from tqdm.notebook import tqdm"
   ]
  },
  {
   "cell_type": "markdown",
   "id": "4dd9721a",
   "metadata": {},
   "source": [
    "#### Сделайте небольшой класс, описывающий какую-то сущность на ваш выбор (организм/тип данных/что-то ещё). В классе должен быть конструктор и пара методов"
   ]
  },
  {
   "cell_type": "code",
   "execution_count": 2,
   "id": "aae8d364",
   "metadata": {},
   "outputs": [],
   "source": [
    "class Anime:\n",
    "    def __init__(self, name, episodes, episode_duration, main_characters):\n",
    "        self.name = name\n",
    "        self.episodes = episodes\n",
    "        self.episode_duration = episode_duration\n",
    "        self.main_characters = main_characters.copy()\n",
    "\n",
    "    def print_name(self):\n",
    "        print('My favorite anime is', self.name)\n",
    "\n",
    "    def duration(self):\n",
    "        print('Anime duration is', self.episodes * self.episode_duration, 'minutes.')\n",
    "\n",
    "    def characters_list(self):\n",
    "        for character in self.main_characters:\n",
    "            print(character)\n"
   ]
  },
  {
   "cell_type": "code",
   "execution_count": 3,
   "id": "cdc478e4",
   "metadata": {},
   "outputs": [],
   "source": [
    "Fullmetal_alchemist = Anime('Fullmetal alchemist', 64, 23, ['Edward Elric', 'Alphonse Elric'])"
   ]
  },
  {
   "cell_type": "code",
   "execution_count": 4,
   "id": "a93a78f9",
   "metadata": {},
   "outputs": [
    {
     "data": {
      "text/plain": [
       "64"
      ]
     },
     "execution_count": 4,
     "metadata": {},
     "output_type": "execute_result"
    }
   ],
   "source": [
    "Fullmetal_alchemist.episodes"
   ]
  },
  {
   "cell_type": "code",
   "execution_count": 5,
   "id": "4e910541",
   "metadata": {},
   "outputs": [
    {
     "name": "stdout",
     "output_type": "stream",
     "text": [
      "My favorite anime is Fullmetal alchemist\n"
     ]
    }
   ],
   "source": [
    "Fullmetal_alchemist.print_name()"
   ]
  },
  {
   "cell_type": "code",
   "execution_count": 6,
   "id": "382f9b86",
   "metadata": {},
   "outputs": [
    {
     "name": "stdout",
     "output_type": "stream",
     "text": [
      "Anime duration is 1472 minutes.\n"
     ]
    }
   ],
   "source": [
    "Fullmetal_alchemist.duration()"
   ]
  },
  {
   "cell_type": "code",
   "execution_count": 7,
   "id": "b3db626d",
   "metadata": {},
   "outputs": [
    {
     "name": "stdout",
     "output_type": "stream",
     "text": [
      "Edward Elric\n",
      "Alphonse Elric\n"
     ]
    }
   ],
   "source": [
    "Fullmetal_alchemist.characters_list()"
   ]
  },
  {
   "cell_type": "markdown",
   "id": "1833b145",
   "metadata": {},
   "source": [
    "#### Напишите класс, описывающий РНК, у него должны быть:  \n",
    "Конструктор - принимает последовательность РНК и создаёт объект с ней  \n",
    "Метод трансляции - возвращает строку, соответствующую белку из этой РНК по стандартному коду  \n",
    "Метод обратной транскрипции - возвращает строку, соответствующую ДНК из этой РНК  "
   ]
  },
  {
   "cell_type": "code",
   "execution_count": 8,
   "id": "02d0e872",
   "metadata": {},
   "outputs": [],
   "source": [
    "class RNA:\n",
    "    translation_table = {\n",
    "    'AUA':'I', 'AUC':'I', 'AUU':'I', 'AUG':'M',\n",
    "    'ACA':'T', 'ACC':'T', 'ACG':'T', 'ACU':'T',\n",
    "    'AAC':'N', 'AAU':'N', 'AAA':'K', 'AAG':'K',\n",
    "    'AGC':'S', 'AGU':'S', 'AGA':'R', 'AGG':'R',                \n",
    "    'CUA':'L', 'CUC':'L', 'CUG':'L', 'CUU':'L',\n",
    "    'CCA':'P', 'CCC':'P', 'CCG':'P', 'CCU':'P',\n",
    "    'CAC':'H', 'CAU':'H', 'CAA':'Q', 'CAG':'Q',\n",
    "    'CGA':'R', 'CGC':'R', 'CGG':'R', 'CGU':'R',\n",
    "    'GUA':'V', 'GUC':'V', 'GUG':'V', 'GUU':'V',\n",
    "    'GCA':'A', 'GCC':'A', 'GCG':'A', 'GCU':'A',\n",
    "    'GAC':'D', 'GAU':'D', 'GAA':'E', 'GAG':'E',\n",
    "    'GGA':'G', 'GGC':'G', 'GGG':'G', 'GGU':'G',\n",
    "    'UCA':'S', 'UCC':'S', 'UCG':'S', 'UCU':'S',\n",
    "    'UUC':'F', 'UUU':'F', 'UUA':'L', 'UUG':'L',\n",
    "    'UAC':'Y', 'UAU':'Y', 'UAA':'_', 'UAG':'_',\n",
    "    'UGC':'C', 'UGU':'C', 'UGA':'_', 'UGG':'W',\n",
    "    }\n",
    "\n",
    "    complemetarity = {\n",
    "    'A':'T', 'U':'A', 'C':'G', 'G':'C'\n",
    "    }\n",
    "\n",
    "    def __init__(self, sequence):\n",
    "        self.sequence = sequence\n",
    "\n",
    "    def translation(self):\n",
    "        protein = ''\n",
    "        if len(self.sequence)%3 == 0:\n",
    "            for i in range(0, len(self.sequence), 3):\n",
    "                codon = self.sequence[i:i + 3]\n",
    "                protein += RNA.translation_table[codon]\n",
    "        else:\n",
    "            print('Wrong sequence')\n",
    "        return protein\n",
    "\n",
    "    def transcription(self):\n",
    "        DNA = ''\n",
    "        for letter in self.sequence:\n",
    "            DNA += RNA.complemetarity[letter]\n",
    "        DNA = DNA[::-1]\n",
    "        return DNA\n"
   ]
  },
  {
   "cell_type": "code",
   "execution_count": 9,
   "id": "ce1d6f05",
   "metadata": {},
   "outputs": [],
   "source": [
    "My_RNA = RNA('AUUACGGGGCAUUUA')"
   ]
  },
  {
   "cell_type": "code",
   "execution_count": 10,
   "id": "02f360e8",
   "metadata": {},
   "outputs": [
    {
     "data": {
      "text/plain": [
       "'ITGHL'"
      ]
     },
     "execution_count": 10,
     "metadata": {},
     "output_type": "execute_result"
    }
   ],
   "source": [
    "My_RNA.translation()"
   ]
  },
  {
   "cell_type": "code",
   "execution_count": 11,
   "id": "0634dafc",
   "metadata": {},
   "outputs": [
    {
     "data": {
      "text/plain": [
       "'TAAATGCCCCGTAAT'"
      ]
     },
     "execution_count": 11,
     "metadata": {},
     "output_type": "execute_result"
    }
   ],
   "source": [
    "My_RNA.transcription()"
   ]
  },
  {
   "cell_type": "markdown",
   "id": "15385ed3",
   "metadata": {},
   "source": [
    "#### Напишите класс, унаследовавшись от сэтов, который будет содержать в себе только положительные числа при создании и не будет добавлять неположительные элементы (подсказка - методы конструктора и add)"
   ]
  },
  {
   "cell_type": "code",
   "execution_count": 12,
   "id": "b708b2ed",
   "metadata": {},
   "outputs": [],
   "source": [
    "class My_set(set):\n",
    "    def __init__(self, numbers):\n",
    "        numbers = [number for number in numbers if number > 0]\n",
    "        super().__init__(numbers)\n",
    "\n",
    "    def add(self, new_number):\n",
    "        if new_number > 0:\n",
    "            super().add(new_number)\n"
   ]
  },
  {
   "cell_type": "code",
   "execution_count": 13,
   "id": "c020fff3",
   "metadata": {},
   "outputs": [
    {
     "name": "stdout",
     "output_type": "stream",
     "text": [
      "My_set({100, 8, 4, 1000})\n",
      "My_set({100, 4, 5, 8, 1000})\n",
      "My_set({100, 4, 5, 8, 1000})\n"
     ]
    }
   ],
   "source": [
    "test = My_set([4, -1, 0, 100, -4, -100, 0, 8, 1000])\n",
    "print(test)\n",
    "test.add(5)\n",
    "print(test)\n",
    "test.add(-5)\n",
    "print(test)"
   ]
  },
  {
   "cell_type": "markdown",
   "id": "cb009974",
   "metadata": {},
   "source": [
    "#### Создайте класс для сбора статистик по фастам.\n",
    "##### Входные параметры:  \n",
    "Путь к фаста файлу   \n",
    "##### Методы:   \n",
    "Подсчёт числа последовательностей в фаста файле  \n",
    "Построение гистограммы длин последовательностей  \n",
    "Подсчёт GC состава  \n",
    "Построение гистограммы частоты 4-меров (по оси x каждый из возможных 4-меров, а по y - их частота)  \n",
    "Переопределение метода для вывода информации при принте (достаточно текста с указанием путя к файлу)  \n",
    "Выполнение всех реализованных методов по подсчёту метрик  \n",
    "Можно придумать дополнительные метрики и реализовать их (по 1 баллу за каждую)  "
   ]
  },
  {
   "cell_type": "code",
   "execution_count": 32,
   "id": "783b7013",
   "metadata": {},
   "outputs": [],
   "source": [
    "class Fasta:\n",
    "    def __init__(self, path):\n",
    "        self.path = path\n",
    "        self.sequences = []\n",
    "        with open(path, 'r') as file:\n",
    "            curr_str = ''\n",
    "            for line in file:\n",
    "                if line[0] != '>':\n",
    "                    curr_str += line[:-1]\n",
    "                elif len(curr_str) > 0:\n",
    "                    self.sequences.append(curr_str)\n",
    "            self.sequences.append(curr_str)\n",
    "\n",
    "    def length_hist(self):\n",
    "        length_list = [len(sequence) for sequence in self.sequences]\n",
    "        plt.hist(length_list)\n",
    "        plt.show()\n",
    "\n",
    "    def count_GC(self):\n",
    "        counter = 0\n",
    "        GC_counter = 0\n",
    "        for sequence in tqdm(self.sequences):\n",
    "            for letter in sequence:\n",
    "                if letter.upper() in 'GC':\n",
    "                    GC_counter += 1\n",
    "                counter += 1\n",
    "        return GC_counter / counter\n",
    "\n",
    "    def count_4(self):\n",
    "        counter = {}\n",
    "        for sequence in tqdm(self.sequences):\n",
    "            for i in range(len(sequence) - 3):\n",
    "                qmer = sequence[i:i + 4]\n",
    "                if qmer in counter:\n",
    "                    counter[qmer] += 1\n",
    "                else:\n",
    "                    counter[qmer] = 1\n",
    "        x_labels = []\n",
    "        y_height = []\n",
    "\n",
    "        for qmer in counter:\n",
    "            x_labels.append(qmer)\n",
    "            y_height.append(counter[qmer])\n",
    "\n",
    "        plt.figure(figsize=(30, 6), dpi=80)\n",
    "        plt.bar(x_labels, height=y_height)\n",
    "        plt.xticks(rotation=90)\n",
    "\n",
    "    def __str__(self):\n",
    "        return self.path\n"
   ]
  },
  {
   "cell_type": "code",
   "execution_count": 33,
   "id": "f28a1704",
   "metadata": {},
   "outputs": [],
   "source": [
    "my_fasta = Fasta('/Users/alexgorbonos/Documents/IB_practice/Practice3/SRR292678/scaffolds.fasta')"
   ]
  },
  {
   "cell_type": "code",
   "execution_count": 17,
   "id": "e804cb48",
   "metadata": {},
   "outputs": [
    {
     "name": "stdout",
     "output_type": "stream",
     "text": [
      "/Users/alexgorbonos/Documents/IB_practice/Practice3/SRR292678/scaffolds.fasta\n"
     ]
    }
   ],
   "source": [
    "print(my_fasta)"
   ]
  },
  {
   "cell_type": "code",
   "execution_count": 18,
   "id": "0c9fe156",
   "metadata": {},
   "outputs": [
    {
     "data": {
      "image/png": "[encoded data removed]",
      "text/plain": [
       "<Figure size 432x288 with 1 Axes>"
      ]
     },
     "metadata": {
      "needs_background": "light"
     },
     "output_type": "display_data"
    }
   ],
   "source": [
    "my_fasta.length_hist()"
   ]
  },
  {
   "cell_type": "code",
   "execution_count": 19,
   "id": "096929db",
   "metadata": {},
   "outputs": [
    {
     "data": {
      "application/vnd.jupyter.widget-view+json": {
       "model_id": "56ddca1ef4844fd7a208144eddf02a62",
       "version_major": 2,
       "version_minor": 0
      },
      "text/plain": [
       "  0%|          | 0/372 [00:00<?, ?it/s]"
      ]
     },
     "metadata": {},
     "output_type": "display_data"
    },
    {
     "data": {
      "text/plain": [
       "0.5053984079336109"
      ]
     },
     "execution_count": 19,
     "metadata": {},
     "output_type": "execute_result"
    }
   ],
   "source": [
    "my_fasta.count_GC()"
   ]
  },
  {
   "cell_type": "code",
   "execution_count": 34,
   "id": "982c7276",
   "metadata": {},
   "outputs": [
    {
     "data": {
      "application/vnd.jupyter.widget-view+json": {
       "model_id": "85ccba868fd54848bfaacced8665d628",
       "version_major": 2,
       "version_minor": 0
      },
      "text/plain": [
       "  0%|          | 0/372 [00:00<?, ?it/s]"
      ]
     },
     "metadata": {},
     "output_type": "display_data"
    },
    {
     "data": {
      "image/png": "[encoded data removed]",
      "text/plain": [
       "<Figure size 2400x480 with 1 Axes>"
      ]
     },
     "metadata": {
      "needs_background": "light"
     },
     "output_type": "display_data"
    }
   ],
   "source": [
    "my_fasta.count_4()"
   ]
  },
  {
   "cell_type": "code",
   "execution_count": null,
   "id": "34ed8ae2",
   "metadata": {},
   "outputs": [],
   "source": []
  }
 ],
 "metadata": {
  "kernelspec": {
   "display_name": "Python 3",
   "language": "python",
   "name": "python3"
  },
  "language_info": {
   "codemirror_mode": {
    "name": "ipython",
    "version": 3
   },
   "file_extension": ".py",
   "mimetype": "text/x-python",
   "name": "python",
   "nbconvert_exporter": "python",
   "pygments_lexer": "ipython3",
   "version": "3.7.10"
  }
 },
 "nbformat": 4,
 "nbformat_minor": 5
}
