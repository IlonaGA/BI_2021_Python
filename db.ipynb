{
 "cells": [
  {
   "cell_type": "code",
   "execution_count": 1,
   "metadata": {},
   "outputs": [],
   "source": [
    "import pandas as pd\n",
    "import sqlite3"
   ]
  },
  {
   "cell_type": "code",
   "execution_count": 5,
   "metadata": {},
   "outputs": [
    {
     "name": "stderr",
     "output_type": "stream",
     "text": [
      "/Users/alexgorbonos/anaconda3/lib/python3.7/site-packages/IPython/core/interactiveshell.py:3166: DtypeWarning: Columns (13) have mixed types.Specify dtype option on import or set low_memory=False.\n",
      "  interactivity=interactivity, compiler=compiler, result=result)\n",
      "/Users/alexgorbonos/anaconda3/lib/python3.7/site-packages/numpy/lib/arraysetops.py:583: FutureWarning: elementwise comparison failed; returning scalar instead, but in the future will perform elementwise comparison\n",
      "  mask |= (ar1 == a)\n"
     ]
    }
   ],
   "source": [
    "gene_df = pd.read_csv('genotyping_data/genstudio.zip', index_col=0)"
   ]
  },
  {
   "cell_type": "code",
   "execution_count": 6,
   "metadata": {},
   "outputs": [
    {
     "data": {
      "text/html": [
       "<div>\n",
       "<style scoped>\n",
       "    .dataframe tbody tr th:only-of-type {\n",
       "        vertical-align: middle;\n",
       "    }\n",
       "\n",
       "    .dataframe tbody tr th {\n",
       "        vertical-align: top;\n",
       "    }\n",
       "\n",
       "    .dataframe thead th {\n",
       "        text-align: right;\n",
       "    }\n",
       "</style>\n",
       "<table border=\"1\" class=\"dataframe\">\n",
       "  <thead>\n",
       "    <tr style=\"text-align: right;\">\n",
       "      <th></th>\n",
       "      <th>SNP Name</th>\n",
       "      <th>SNP Index</th>\n",
       "      <th>SNP Aux</th>\n",
       "      <th>Sample ID</th>\n",
       "      <th>SNP</th>\n",
       "      <th>Allele1 - Top</th>\n",
       "      <th>Allele2 - Top</th>\n",
       "      <th>Allele1 - Forward</th>\n",
       "      <th>Allele2 - Forward</th>\n",
       "      <th>Allele1 - AB</th>\n",
       "      <th>Allele2 - AB</th>\n",
       "      <th>Chr</th>\n",
       "      <th>Position</th>\n",
       "      <th>GC Score</th>\n",
       "      <th>GT Score</th>\n",
       "      <th>Theta</th>\n",
       "      <th>R</th>\n",
       "      <th>B Allele Freq</th>\n",
       "      <th>Log R Ratio</th>\n",
       "    </tr>\n",
       "  </thead>\n",
       "  <tbody>\n",
       "    <tr>\n",
       "      <th>0</th>\n",
       "      <td>1_10573221</td>\n",
       "      <td>1</td>\n",
       "      <td>0</td>\n",
       "      <td>202341831114R01C01</td>\n",
       "      <td>[T/C]</td>\n",
       "      <td>-</td>\n",
       "      <td>-</td>\n",
       "      <td>-</td>\n",
       "      <td>-</td>\n",
       "      <td>-</td>\n",
       "      <td>-</td>\n",
       "      <td>1</td>\n",
       "      <td>10573221</td>\n",
       "      <td>0.0000</td>\n",
       "      <td>0.0000</td>\n",
       "      <td>0.942</td>\n",
       "      <td>0.413</td>\n",
       "      <td>1.0000</td>\n",
       "      <td>0.4040</td>\n",
       "    </tr>\n",
       "    <tr>\n",
       "      <th>1</th>\n",
       "      <td>1_10673082</td>\n",
       "      <td>2</td>\n",
       "      <td>0</td>\n",
       "      <td>202341831114R01C01</td>\n",
       "      <td>[T/C]</td>\n",
       "      <td>A</td>\n",
       "      <td>A</td>\n",
       "      <td>T</td>\n",
       "      <td>T</td>\n",
       "      <td>A</td>\n",
       "      <td>A</td>\n",
       "      <td>1</td>\n",
       "      <td>10673082</td>\n",
       "      <td>0.8272</td>\n",
       "      <td>0.8076</td>\n",
       "      <td>0.039</td>\n",
       "      <td>0.968</td>\n",
       "      <td>0.0000</td>\n",
       "      <td>0.3017</td>\n",
       "    </tr>\n",
       "    <tr>\n",
       "      <th>2</th>\n",
       "      <td>1_10723065</td>\n",
       "      <td>3</td>\n",
       "      <td>0</td>\n",
       "      <td>202341831114R01C01</td>\n",
       "      <td>[A/G]</td>\n",
       "      <td>A</td>\n",
       "      <td>A</td>\n",
       "      <td>T</td>\n",
       "      <td>T</td>\n",
       "      <td>A</td>\n",
       "      <td>A</td>\n",
       "      <td>1</td>\n",
       "      <td>10723065</td>\n",
       "      <td>0.8316</td>\n",
       "      <td>0.8107</td>\n",
       "      <td>0.011</td>\n",
       "      <td>1.577</td>\n",
       "      <td>0.0000</td>\n",
       "      <td>0.0388</td>\n",
       "    </tr>\n",
       "    <tr>\n",
       "      <th>3</th>\n",
       "      <td>1_11337555</td>\n",
       "      <td>4</td>\n",
       "      <td>0</td>\n",
       "      <td>202341831114R01C01</td>\n",
       "      <td>[A/G]</td>\n",
       "      <td>A</td>\n",
       "      <td>A</td>\n",
       "      <td>T</td>\n",
       "      <td>T</td>\n",
       "      <td>A</td>\n",
       "      <td>A</td>\n",
       "      <td>1</td>\n",
       "      <td>11337555</td>\n",
       "      <td>0.3781</td>\n",
       "      <td>0.7925</td>\n",
       "      <td>0.045</td>\n",
       "      <td>1.104</td>\n",
       "      <td>0.0000</td>\n",
       "      <td>0.2761</td>\n",
       "    </tr>\n",
       "    <tr>\n",
       "      <th>4</th>\n",
       "      <td>1_11407894</td>\n",
       "      <td>5</td>\n",
       "      <td>0</td>\n",
       "      <td>202341831114R01C01</td>\n",
       "      <td>[A/G]</td>\n",
       "      <td>G</td>\n",
       "      <td>G</td>\n",
       "      <td>G</td>\n",
       "      <td>G</td>\n",
       "      <td>B</td>\n",
       "      <td>B</td>\n",
       "      <td>1</td>\n",
       "      <td>11407894</td>\n",
       "      <td>0.9038</td>\n",
       "      <td>0.8670</td>\n",
       "      <td>0.983</td>\n",
       "      <td>1.122</td>\n",
       "      <td>0.9994</td>\n",
       "      <td>0.0022</td>\n",
       "    </tr>\n",
       "  </tbody>\n",
       "</table>\n",
       "</div>"
      ],
      "text/plain": [
       "     SNP Name  SNP Index  SNP Aux           Sample ID    SNP Allele1 - Top  \\\n",
       "0  1_10573221          1        0  202341831114R01C01  [T/C]             -   \n",
       "1  1_10673082          2        0  202341831114R01C01  [T/C]             A   \n",
       "2  1_10723065          3        0  202341831114R01C01  [A/G]             A   \n",
       "3  1_11337555          4        0  202341831114R01C01  [A/G]             A   \n",
       "4  1_11407894          5        0  202341831114R01C01  [A/G]             G   \n",
       "\n",
       "  Allele2 - Top Allele1 - Forward Allele2 - Forward Allele1 - AB Allele2 - AB  \\\n",
       "0             -                 -                 -            -            -   \n",
       "1             A                 T                 T            A            A   \n",
       "2             A                 T                 T            A            A   \n",
       "3             A                 T                 T            A            A   \n",
       "4             G                 G                 G            B            B   \n",
       "\n",
       "  Chr  Position  GC Score  GT Score  Theta      R  B Allele Freq  Log R Ratio  \n",
       "0   1  10573221    0.0000    0.0000  0.942  0.413         1.0000       0.4040  \n",
       "1   1  10673082    0.8272    0.8076  0.039  0.968         0.0000       0.3017  \n",
       "2   1  10723065    0.8316    0.8107  0.011  1.577         0.0000       0.0388  \n",
       "3   1  11337555    0.3781    0.7925  0.045  1.104         0.0000       0.2761  \n",
       "4   1  11407894    0.9038    0.8670  0.983  1.122         0.9994       0.0022  "
      ]
     },
     "execution_count": 6,
     "metadata": {},
     "output_type": "execute_result"
    }
   ],
   "source": [
    "gene_df.head()"
   ]
  },
  {
   "cell_type": "code",
   "execution_count": 4,
   "metadata": {},
   "outputs": [
    {
     "data": {
      "text/plain": [
       "SNP Name              object\n",
       "SNP Index              int64\n",
       "SNP Aux                int64\n",
       "Sample ID             object\n",
       "SNP                   object\n",
       "Allele1 - Top         object\n",
       "Allele2 - Top         object\n",
       "Allele1 - Forward     object\n",
       "Allele2 - Forward     object\n",
       "Allele1 - AB          object\n",
       "Allele2 - AB          object\n",
       "Chr                   object\n",
       "Position              object\n",
       "GC Score             float64\n",
       "GT Score             float64\n",
       "Theta                float64\n",
       "R                    float64\n",
       "B Allele Freq        float64\n",
       "Log R Ratio          float64\n",
       "dtype: object"
      ]
     },
     "execution_count": 4,
     "metadata": {},
     "output_type": "execute_result"
    }
   ],
   "source": [
    "gene_df.dtypes"
   ]
  },
  {
   "cell_type": "code",
   "execution_count": 9,
   "metadata": {},
   "outputs": [],
   "source": [
    "connection = sqlite3.connect('genes.db')"
   ]
  },
  {
   "cell_type": "code",
   "execution_count": 10,
   "metadata": {},
   "outputs": [],
   "source": [
    "query = '''CREATE TABLE genstudio(\n",
    "            genstudio_id INTEGER PRIMARY KEY,\n",
    "            SNP_Name TEXT,\n",
    "            SNP_Index INTEGER,\n",
    "            SNP_Aux INTEGER,\n",
    "            Sample_ID TEXT,\n",
    "            SNP TEXT,\n",
    "            Allele1_Top TEXT,\n",
    "            Allele2_Top TEXT,\n",
    "            Allele1_Forward TEXT,\n",
    "            Allele2_Forward TEXT,\n",
    "            Allele1_AB TEXT,\n",
    "            Allele2_AB TEXT,\n",
    "            Chr TEXT,\n",
    "            Position TEXT, \n",
    "            GC_Score REAL,\n",
    "            GT_Score REAL,\n",
    "            Theta REAL,\n",
    "            R REAL,\n",
    "            B_Allele_Freq REAL,\n",
    "            Log_R_Ratio REAL\n",
    "            )'''"
   ]
  },
  {
   "cell_type": "code",
   "execution_count": 11,
   "metadata": {},
   "outputs": [],
   "source": [
    "connection.execute(query)\n",
    "connection.commit()\n",
    "connection.close()"
   ]
  },
  {
   "cell_type": "code",
   "execution_count": 16,
   "metadata": {},
   "outputs": [],
   "source": [
    "inserion_query = '''\n",
    "                INSERT INTO\n",
    "                genstudio(SNP_Name, SNP_Index, SNP_Aux, Sample_ID, SNP, \n",
    "                Allele1_Top, Allele2_Top, Allele1_Forward, Allele2_Forward,\n",
    "                Allele1_AB, Allele2_AB, Chr, Position, GC_Score,\n",
    "                GT_Score, Theta, R, B_Allele_Freq, Log_R_Ratio)\n",
    "                VALUES (?, ?, ?, ?, ?, ?, ?, ?, ?, ?, ?, ?, ?, ?, ?, ?, ?, ?, ?)\n",
    "                '''"
   ]
  },
  {
   "cell_type": "code",
   "execution_count": 20,
   "metadata": {},
   "outputs": [],
   "source": [
    "connection = sqlite3.connect('genes.db')\n",
    "connection.executemany(inserion_query, gene_df.to_numpy())\n",
    "connection.commit()\n",
    "connection.close()"
   ]
  },
  {
   "cell_type": "code",
   "execution_count": 23,
   "metadata": {},
   "outputs": [],
   "source": [
    "connection = sqlite3.connect('genes.db')"
   ]
  },
  {
   "cell_type": "code",
   "execution_count": 32,
   "metadata": {},
   "outputs": [],
   "source": [
    "# Проверим, что все работает:\n",
    "select_query = '''\n",
    "                SELECT SNP_Name, SNP, Position\n",
    "                FROM genstudio\n",
    "                '''"
   ]
  },
  {
   "cell_type": "code",
   "execution_count": 30,
   "metadata": {},
   "outputs": [],
   "source": [
    "result = connection.execute(select_query).fetchall()"
   ]
  },
  {
   "cell_type": "code",
   "execution_count": 31,
   "metadata": {},
   "outputs": [
    {
     "name": "stdout",
     "output_type": "stream",
     "text": [
      "1_10573221 [T/C] 10573221\n",
      "1_10673082 [T/C] 10673082\n",
      "1_10723065 [A/G] 10723065\n",
      "1_11337555 [A/G] 11337555\n",
      "1_11407894 [A/G] 11407894\n",
      "1_11426075 [T/C] 11426075\n",
      "1_11445382 [T/C] 11445382\n",
      "1_135128255 [A/G] 135128255\n",
      "1_13996200 [T/C] 13996200\n",
      "1_142535524 [A/G] 142535524\n",
      "1_14638936 [T/C] 14638936\n"
     ]
    }
   ],
   "source": [
    "for i, (name, SNP, pos) in enumerate(result):\n",
    "    print(name, SNP, pos)\n",
    "    if i == 10:\n",
    "        break"
   ]
  },
  {
   "cell_type": "code",
   "execution_count": null,
   "metadata": {},
   "outputs": [],
   "source": []
  }
 ],
 "metadata": {
  "interpreter": {
   "hash": "31f2aee4e71d21fbe5cf8b01ff0e069b9275f58929596ceb00d14d90e3e16cd6"
  },
  "kernelspec": {
   "display_name": "Python 3.8.2 64-bit",
   "language": "python",
   "name": "python3"
  },
  "language_info": {
   "codemirror_mode": {
    "name": "ipython",
    "version": 3
   },
   "file_extension": ".py",
   "mimetype": "text/x-python",
   "name": "python",
   "nbconvert_exporter": "python",
   "pygments_lexer": "ipython3",
   "version": "3.7.10"
  },
  "orig_nbformat": 4
 },
 "nbformat": 4,
 "nbformat_minor": 2
}
